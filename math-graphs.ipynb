{
 "cells": [
  {
   "cell_type": "code",
   "execution_count": 1,
   "metadata": {},
   "outputs": [],
   "source": [
    "from sklearn.datasets import load_diabetes\n",
    "from sklearn.linear_model import LinearRegression\n",
    "from sklearn.preprocessing import StandardScaler\n",
    "import statsmodels.api as sm\n",
    "import pandas as pd\n",
    "import numpy as np\n",
    "import matplotlib.pyplot as plt\n",
    "import seaborn as sns\n",
    "\n",
    "sns.set(font_scale=1.3)\n",
    "plt.rcParams['figure.dpi'] = 50"
   ]
  },
  {
   "cell_type": "markdown",
   "metadata": {},
   "source": [
    "Create a simple 2D array and plot it"
   ]
  },
  {
   "cell_type": "code",
   "execution_count": 2,
   "metadata": {},
   "outputs": [
    {
     "data": {
      "image/png": "[encoded data removed]",
      "text/plain": [
       "<Figure size 320x240 with 1 Axes>"
      ]
     },
     "metadata": {},
     "output_type": "display_data"
    }
   ],
   "source": [
    "data_x = np.array([1.0, 2.0, 3.0, 4.0])\n",
    "data_y = np.array([1.0, 1.2, 1.6, 1.8])\n",
    "\n",
    "sns.scatterplot(x=data_x, y=data_y);"
   ]
  },
  {
   "cell_type": "markdown",
   "metadata": {},
   "source": [
    "## y = mx + c\n",
    "\n",
    "i.e. Get the slope & intercept"
   ]
  },
  {
   "cell_type": "code",
   "execution_count": 3,
   "metadata": {},
   "outputs": [
    {
     "name": "stdout",
     "output_type": "stream",
     "text": [
      "y = mx + c \n",
      "\n",
      "m = [0.28]\n",
      "c = 0.7000000000000002\n"
     ]
    }
   ],
   "source": [
    "model = LinearRegression().fit(X=data_x.reshape(-1, 1), y=data_y)\n",
    "\n",
    "print('y = mx + c', '\\n')\n",
    "print('m =', model.coef_)\n",
    "print('c =', model.intercept_)"
   ]
  },
  {
   "cell_type": "markdown",
   "metadata": {},
   "source": [
    "## Drawing straigh-line graph"
   ]
  },
  {
   "cell_type": "markdown",
   "metadata": {},
   "source": [
    "#### Manual approach"
   ]
  },
  {
   "cell_type": "code",
   "execution_count": 4,
   "metadata": {},
   "outputs": [
    {
     "data": {
      "image/png": "[encoded data removed]",
      "text/plain": [
       "<Figure size 320x240 with 1 Axes>"
      ]
     },
     "metadata": {},
     "output_type": "display_data"
    }
   ],
   "source": [
    "x = np.array([1, 4])\n",
    "y = np.array([(1*0.28)+0.7,\n",
    "              (4*0.28)+0.7])\n",
    "\n",
    "sns.scatterplot(x=data_x, y=data_y);\n",
    "sns.lineplot(x=x, y=y);"
   ]
  },
  {
   "cell_type": "markdown",
   "metadata": {},
   "source": [
    "#### Use a function f(x)"
   ]
  },
  {
   "cell_type": "markdown",
   "metadata": {},
   "source": [
    "define the function"
   ]
  },
  {
   "cell_type": "code",
   "execution_count": 5,
   "metadata": {},
   "outputs": [],
   "source": [
    "def f(x):\n",
    "    m = 0.28\n",
    "    c = 0.7\n",
    "    return m*x + c"
   ]
  },
  {
   "cell_type": "markdown",
   "metadata": {},
   "source": [
    "use the function"
   ]
  },
  {
   "cell_type": "code",
   "execution_count": 6,
   "metadata": {},
   "outputs": [
    {
     "data": {
      "image/png": "[encoded data removed]",
      "text/plain": [
       "<Figure size 320x240 with 1 Axes>"
      ]
     },
     "metadata": {},
     "output_type": "display_data"
    }
   ],
   "source": [
    "x = np.array([1, 4])\n",
    "y = f(x)\n",
    "\n",
    "sns.scatterplot(x=data_x, y=data_y);\n",
    "sns.lineplot(x=x, y=y);"
   ]
  },
  {
   "cell_type": "markdown",
   "metadata": {},
   "source": [
    "## Coordinates and Ratio"
   ]
  },
  {
   "cell_type": "markdown",
   "metadata": {},
   "source": [
    "Find the <B>mid-point</B> using the <B>average</B> of the <B>end points</B>"
   ]
  },
  {
   "cell_type": "code",
   "execution_count": 7,
   "metadata": {},
   "outputs": [
    {
     "name": "stdout",
     "output_type": "stream",
     "text": [
      "x = [1 4]\n",
      "y = [0.98 1.82]\n"
     ]
    },
    {
     "data": {
      "text/plain": [
       "(2.5, 1.4)"
      ]
     },
     "execution_count": 7,
     "metadata": {},
     "output_type": "execute_result"
    }
   ],
   "source": [
    "print('x =', x)\n",
    "print('y =', y)\n",
    "\n",
    "(x.mean(), y.mean())"
   ]
  },
  {
   "cell_type": "markdown",
   "metadata": {},
   "source": [
    "## Real world data\n",
    "\n",
    "**Number of Instances:** 442\n",
    "\n",
    "**Target variable (y):**\n",
    "Quantitative measure of disease progression one year after baseline\n",
    "\n",
    "**Features (X):**\n",
    "1. age: Age in years\n",
    "2. sex\n",
    "3. bmi: Body mass index\n",
    "4. bp: Average blood pressure\n",
    "5. s1: Total serum cholesterol (tc)\n",
    "6. s2: Low-density lipoproteins (ldl)\n",
    "7. s3: High-density lipoproteins (hdl)\n",
    "8. s4: Total cholesterol / HDL (tch)\n",
    "9. s5: Possibly log of serum triglycerides level (ltg)\n",
    "10. s6: Blood sugar level (glu)\n"
   ]
  },
  {
   "cell_type": "code",
   "execution_count": 8,
   "metadata": {},
   "outputs": [
    {
     "data": {
      "text/html": [
       "<div>\n",
       "<style scoped>\n",
       "    .dataframe tbody tr th:only-of-type {\n",
       "        vertical-align: middle;\n",
       "    }\n",
       "\n",
       "    .dataframe tbody tr th {\n",
       "        vertical-align: top;\n",
       "    }\n",
       "\n",
       "    .dataframe thead th {\n",
       "        text-align: right;\n",
       "    }\n",
       "</style>\n",
       "<table border=\"1\" class=\"dataframe\">\n",
       "  <thead>\n",
       "    <tr style=\"text-align: right;\">\n",
       "      <th></th>\n",
       "      <th>age</th>\n",
       "      <th>sex</th>\n",
       "      <th>bmi</th>\n",
       "      <th>bp</th>\n",
       "      <th>s1</th>\n",
       "      <th>s2</th>\n",
       "      <th>s3</th>\n",
       "      <th>s4</th>\n",
       "      <th>s5</th>\n",
       "      <th>s6</th>\n",
       "      <th>disease_progression</th>\n",
       "    </tr>\n",
       "  </thead>\n",
       "  <tbody>\n",
       "    <tr>\n",
       "      <th>0</th>\n",
       "      <td>0.038076</td>\n",
       "      <td>0.050680</td>\n",
       "      <td>0.061696</td>\n",
       "      <td>0.021872</td>\n",
       "      <td>-0.044223</td>\n",
       "      <td>-0.034821</td>\n",
       "      <td>-0.043401</td>\n",
       "      <td>-0.002592</td>\n",
       "      <td>0.019907</td>\n",
       "      <td>-0.017646</td>\n",
       "      <td>151</td>\n",
       "    </tr>\n",
       "    <tr>\n",
       "      <th>1</th>\n",
       "      <td>-0.001882</td>\n",
       "      <td>-0.044642</td>\n",
       "      <td>-0.051474</td>\n",
       "      <td>-0.026328</td>\n",
       "      <td>-0.008449</td>\n",
       "      <td>-0.019163</td>\n",
       "      <td>0.074412</td>\n",
       "      <td>-0.039493</td>\n",
       "      <td>-0.068332</td>\n",
       "      <td>-0.092204</td>\n",
       "      <td>75</td>\n",
       "    </tr>\n",
       "    <tr>\n",
       "      <th>2</th>\n",
       "      <td>0.085299</td>\n",
       "      <td>0.050680</td>\n",
       "      <td>0.044451</td>\n",
       "      <td>-0.005670</td>\n",
       "      <td>-0.045599</td>\n",
       "      <td>-0.034194</td>\n",
       "      <td>-0.032356</td>\n",
       "      <td>-0.002592</td>\n",
       "      <td>0.002861</td>\n",
       "      <td>-0.025930</td>\n",
       "      <td>141</td>\n",
       "    </tr>\n",
       "    <tr>\n",
       "      <th>3</th>\n",
       "      <td>-0.089063</td>\n",
       "      <td>-0.044642</td>\n",
       "      <td>-0.011595</td>\n",
       "      <td>-0.036656</td>\n",
       "      <td>0.012191</td>\n",
       "      <td>0.024991</td>\n",
       "      <td>-0.036038</td>\n",
       "      <td>0.034309</td>\n",
       "      <td>0.022688</td>\n",
       "      <td>-0.009362</td>\n",
       "      <td>206</td>\n",
       "    </tr>\n",
       "    <tr>\n",
       "      <th>4</th>\n",
       "      <td>0.005383</td>\n",
       "      <td>-0.044642</td>\n",
       "      <td>-0.036385</td>\n",
       "      <td>0.021872</td>\n",
       "      <td>0.003935</td>\n",
       "      <td>0.015596</td>\n",
       "      <td>0.008142</td>\n",
       "      <td>-0.002592</td>\n",
       "      <td>-0.031988</td>\n",
       "      <td>-0.046641</td>\n",
       "      <td>135</td>\n",
       "    </tr>\n",
       "  </tbody>\n",
       "</table>\n",
       "</div>"
      ],
      "text/plain": [
       "        age       sex       bmi        bp        s1        s2        s3  \\\n",
       "0  0.038076  0.050680  0.061696  0.021872 -0.044223 -0.034821 -0.043401   \n",
       "1 -0.001882 -0.044642 -0.051474 -0.026328 -0.008449 -0.019163  0.074412   \n",
       "2  0.085299  0.050680  0.044451 -0.005670 -0.045599 -0.034194 -0.032356   \n",
       "3 -0.089063 -0.044642 -0.011595 -0.036656  0.012191  0.024991 -0.036038   \n",
       "4  0.005383 -0.044642 -0.036385  0.021872  0.003935  0.015596  0.008142   \n",
       "\n",
       "         s4        s5        s6  disease_progression  \n",
       "0 -0.002592  0.019907 -0.017646                  151  \n",
       "1 -0.039493 -0.068332 -0.092204                   75  \n",
       "2 -0.002592  0.002861 -0.025930                  141  \n",
       "3  0.034309  0.022688 -0.009362                  206  \n",
       "4 -0.002592 -0.031988 -0.046641                  135  "
      ]
     },
     "execution_count": 8,
     "metadata": {},
     "output_type": "execute_result"
    }
   ],
   "source": [
    "data = load_diabetes()\n",
    "df = pd.DataFrame(\n",
    "    data=np.concatenate((data.data, data.target.reshape(-1, 1)), axis=1),\n",
    "    columns=data.feature_names + ['disease_progression'],\n",
    ").astype({'disease_progression': int})\n",
    "df.head()"
   ]
  },
  {
   "cell_type": "markdown",
   "metadata": {},
   "source": [
    "Scatterplot with linear regression line"
   ]
  },
  {
   "cell_type": "code",
   "execution_count": 9,
   "metadata": {},
   "outputs": [
    {
     "data": {
      "image/png": "[encoded data removed]",
      "text/plain": [
       "<Figure size 800x250 with 2 Axes>"
      ]
     },
     "metadata": {},
     "output_type": "display_data"
    }
   ],
   "source": [
    "fig, ax = plt.subplots(1, 2, sharey=True, figsize=(16, 5))\n",
    "sns.regplot(data=df, x='bmi', y='disease_progression', ax=ax[0]).set_title('BMI (positive gradient example)')\n",
    "sns.regplot(data=df, x='s3', y='disease_progression', ax=ax[1]).set_title('s3 (negative gradient example)')\n",
    "plt.show()"
   ]
  },
  {
   "cell_type": "markdown",
   "metadata": {},
   "source": [
    "### For fun..."
   ]
  },
  {
   "cell_type": "code",
   "execution_count": 10,
   "metadata": {},
   "outputs": [
    {
     "data": {
      "text/html": [
       "<table class=\"simpletable\">\n",
       "<caption>OLS Regression Results</caption>\n",
       "<tr>\n",
       "  <th>Dep. Variable:</th>    <td>disease_progression</td> <th>  R-squared:         </th> <td>   0.518</td>\n",
       "</tr>\n",
       "<tr>\n",
       "  <th>Model:</th>                    <td>OLS</td>         <th>  Adj. R-squared:    </th> <td>   0.507</td>\n",
       "</tr>\n",
       "<tr>\n",
       "  <th>Method:</th>              <td>Least Squares</td>    <th>  F-statistic:       </th> <td>   46.27</td>\n",
       "</tr>\n",
       "<tr>\n",
       "  <th>Date:</th>              <td>Sun, 05 Nov 2023</td>   <th>  Prob (F-statistic):</th> <td>3.83e-62</td>\n",
       "</tr>\n",
       "<tr>\n",
       "  <th>Time:</th>                  <td>09:25:25</td>       <th>  Log-Likelihood:    </th> <td> -2386.0</td>\n",
       "</tr>\n",
       "<tr>\n",
       "  <th>No. Observations:</th>       <td>   442</td>        <th>  AIC:               </th> <td>   4794.</td>\n",
       "</tr>\n",
       "<tr>\n",
       "  <th>Df Residuals:</th>           <td>   431</td>        <th>  BIC:               </th> <td>   4839.</td>\n",
       "</tr>\n",
       "<tr>\n",
       "  <th>Df Model:</th>               <td>    10</td>        <th>                     </th>     <td> </td>   \n",
       "</tr>\n",
       "<tr>\n",
       "  <th>Covariance Type:</th>       <td>nonrobust</td>      <th>                     </th>     <td> </td>   \n",
       "</tr>\n",
       "</table>\n",
       "<table class=\"simpletable\">\n",
       "<tr>\n",
       "    <td></td>       <th>coef</th>     <th>std err</th>      <th>t</th>      <th>P>|t|</th>  <th>[0.025</th>    <th>0.975]</th>  \n",
       "</tr>\n",
       "<tr>\n",
       "  <th>const</th> <td>  152.1335</td> <td>    2.576</td> <td>   59.061</td> <td> 0.000</td> <td>  147.071</td> <td>  157.196</td>\n",
       "</tr>\n",
       "<tr>\n",
       "  <th>age</th>   <td>   -0.4761</td> <td>    2.842</td> <td>   -0.168</td> <td> 0.867</td> <td>   -6.062</td> <td>    5.110</td>\n",
       "</tr>\n",
       "<tr>\n",
       "  <th>sex</th>   <td>  -11.4069</td> <td>    2.912</td> <td>   -3.917</td> <td> 0.000</td> <td>  -17.130</td> <td>   -5.683</td>\n",
       "</tr>\n",
       "<tr>\n",
       "  <th>bmi</th>   <td>   24.7265</td> <td>    3.165</td> <td>    7.813</td> <td> 0.000</td> <td>   18.506</td> <td>   30.947</td>\n",
       "</tr>\n",
       "<tr>\n",
       "  <th>bp</th>    <td>   15.4294</td> <td>    3.112</td> <td>    4.958</td> <td> 0.000</td> <td>    9.313</td> <td>   21.546</td>\n",
       "</tr>\n",
       "<tr>\n",
       "  <th>s1</th>    <td>  -37.6800</td> <td>   19.819</td> <td>   -1.901</td> <td> 0.058</td> <td>  -76.635</td> <td>    1.275</td>\n",
       "</tr>\n",
       "<tr>\n",
       "  <th>s2</th>    <td>   22.6762</td> <td>   16.126</td> <td>    1.406</td> <td> 0.160</td> <td>   -9.019</td> <td>   54.372</td>\n",
       "</tr>\n",
       "<tr>\n",
       "  <th>s3</th>    <td>    4.8061</td> <td>   10.109</td> <td>    0.475</td> <td> 0.635</td> <td>  -15.063</td> <td>   24.675</td>\n",
       "</tr>\n",
       "<tr>\n",
       "  <th>s4</th>    <td>    8.4220</td> <td>    7.681</td> <td>    1.097</td> <td> 0.273</td> <td>   -6.674</td> <td>   23.518</td>\n",
       "</tr>\n",
       "<tr>\n",
       "  <th>s5</th>    <td>   35.7344</td> <td>    8.176</td> <td>    4.370</td> <td> 0.000</td> <td>   19.664</td> <td>   51.805</td>\n",
       "</tr>\n",
       "<tr>\n",
       "  <th>s6</th>    <td>    3.2167</td> <td>    3.139</td> <td>    1.025</td> <td> 0.306</td> <td>   -2.952</td> <td>    9.385</td>\n",
       "</tr>\n",
       "</table>\n",
       "<table class=\"simpletable\">\n",
       "<tr>\n",
       "  <th>Omnibus:</th>       <td> 1.506</td> <th>  Durbin-Watson:     </th> <td>   2.029</td>\n",
       "</tr>\n",
       "<tr>\n",
       "  <th>Prob(Omnibus):</th> <td> 0.471</td> <th>  Jarque-Bera (JB):  </th> <td>   1.404</td>\n",
       "</tr>\n",
       "<tr>\n",
       "  <th>Skew:</th>          <td> 0.017</td> <th>  Prob(JB):          </th> <td>   0.496</td>\n",
       "</tr>\n",
       "<tr>\n",
       "  <th>Kurtosis:</th>      <td> 2.726</td> <th>  Cond. No.          </th> <td>    21.7</td>\n",
       "</tr>\n",
       "</table><br/><br/>Notes:<br/>[1] Standard Errors assume that the covariance matrix of the errors is correctly specified."
      ],
      "text/latex": [
       "\\begin{center}\n",
       "\\begin{tabular}{lclc}\n",
       "\\toprule\n",
       "\\textbf{Dep. Variable:}    & disease\\_progression & \\textbf{  R-squared:         } &     0.518   \\\\\n",
       "\\textbf{Model:}            &         OLS          & \\textbf{  Adj. R-squared:    } &     0.507   \\\\\n",
       "\\textbf{Method:}           &    Least Squares     & \\textbf{  F-statistic:       } &     46.27   \\\\\n",
       "\\textbf{Date:}             &   Sun, 05 Nov 2023   & \\textbf{  Prob (F-statistic):} &  3.83e-62   \\\\\n",
       "\\textbf{Time:}             &       09:25:25       & \\textbf{  Log-Likelihood:    } &   -2386.0   \\\\\n",
       "\\textbf{No. Observations:} &           442        & \\textbf{  AIC:               } &     4794.   \\\\\n",
       "\\textbf{Df Residuals:}     &           431        & \\textbf{  BIC:               } &     4839.   \\\\\n",
       "\\textbf{Df Model:}         &            10        & \\textbf{                     } &             \\\\\n",
       "\\textbf{Covariance Type:}  &      nonrobust       & \\textbf{                     } &             \\\\\n",
       "\\bottomrule\n",
       "\\end{tabular}\n",
       "\\begin{tabular}{lcccccc}\n",
       "               & \\textbf{coef} & \\textbf{std err} & \\textbf{t} & \\textbf{P$> |$t$|$} & \\textbf{[0.025} & \\textbf{0.975]}  \\\\\n",
       "\\midrule\n",
       "\\textbf{const} &     152.1335  &        2.576     &    59.061  &         0.000        &      147.071    &      157.196     \\\\\n",
       "\\textbf{age}   &      -0.4761  &        2.842     &    -0.168  &         0.867        &       -6.062    &        5.110     \\\\\n",
       "\\textbf{sex}   &     -11.4069  &        2.912     &    -3.917  &         0.000        &      -17.130    &       -5.683     \\\\\n",
       "\\textbf{bmi}   &      24.7265  &        3.165     &     7.813  &         0.000        &       18.506    &       30.947     \\\\\n",
       "\\textbf{bp}    &      15.4294  &        3.112     &     4.958  &         0.000        &        9.313    &       21.546     \\\\\n",
       "\\textbf{s1}    &     -37.6800  &       19.819     &    -1.901  &         0.058        &      -76.635    &        1.275     \\\\\n",
       "\\textbf{s2}    &      22.6762  &       16.126     &     1.406  &         0.160        &       -9.019    &       54.372     \\\\\n",
       "\\textbf{s3}    &       4.8061  &       10.109     &     0.475  &         0.635        &      -15.063    &       24.675     \\\\\n",
       "\\textbf{s4}    &       8.4220  &        7.681     &     1.097  &         0.273        &       -6.674    &       23.518     \\\\\n",
       "\\textbf{s5}    &      35.7344  &        8.176     &     4.370  &         0.000        &       19.664    &       51.805     \\\\\n",
       "\\textbf{s6}    &       3.2167  &        3.139     &     1.025  &         0.306        &       -2.952    &        9.385     \\\\\n",
       "\\bottomrule\n",
       "\\end{tabular}\n",
       "\\begin{tabular}{lclc}\n",
       "\\textbf{Omnibus:}       &  1.506 & \\textbf{  Durbin-Watson:     } &    2.029  \\\\\n",
       "\\textbf{Prob(Omnibus):} &  0.471 & \\textbf{  Jarque-Bera (JB):  } &    1.404  \\\\\n",
       "\\textbf{Skew:}          &  0.017 & \\textbf{  Prob(JB):          } &    0.496  \\\\\n",
       "\\textbf{Kurtosis:}      &  2.726 & \\textbf{  Cond. No.          } &     21.7  \\\\\n",
       "\\bottomrule\n",
       "\\end{tabular}\n",
       "%\\caption{OLS Regression Results}\n",
       "\\end{center}\n",
       "\n",
       "Notes: \\newline\n",
       " [1] Standard Errors assume that the covariance matrix of the errors is correctly specified."
      ],
      "text/plain": [
       "<class 'statsmodels.iolib.summary.Summary'>\n",
       "\"\"\"\n",
       "                             OLS Regression Results                            \n",
       "===============================================================================\n",
       "Dep. Variable:     disease_progression   R-squared:                       0.518\n",
       "Model:                             OLS   Adj. R-squared:                  0.507\n",
       "Method:                  Least Squares   F-statistic:                     46.27\n",
       "Date:                 Sun, 05 Nov 2023   Prob (F-statistic):           3.83e-62\n",
       "Time:                         09:25:25   Log-Likelihood:                -2386.0\n",
       "No. Observations:                  442   AIC:                             4794.\n",
       "Df Residuals:                      431   BIC:                             4839.\n",
       "Df Model:                           10                                         \n",
       "Covariance Type:             nonrobust                                         \n",
       "==============================================================================\n",
       "                 coef    std err          t      P>|t|      [0.025      0.975]\n",
       "------------------------------------------------------------------------------\n",
       "const        152.1335      2.576     59.061      0.000     147.071     157.196\n",
       "age           -0.4761      2.842     -0.168      0.867      -6.062       5.110\n",
       "sex          -11.4069      2.912     -3.917      0.000     -17.130      -5.683\n",
       "bmi           24.7265      3.165      7.813      0.000      18.506      30.947\n",
       "bp            15.4294      3.112      4.958      0.000       9.313      21.546\n",
       "s1           -37.6800     19.819     -1.901      0.058     -76.635       1.275\n",
       "s2            22.6762     16.126      1.406      0.160      -9.019      54.372\n",
       "s3             4.8061     10.109      0.475      0.635     -15.063      24.675\n",
       "s4             8.4220      7.681      1.097      0.273      -6.674      23.518\n",
       "s5            35.7344      8.176      4.370      0.000      19.664      51.805\n",
       "s6             3.2167      3.139      1.025      0.306      -2.952       9.385\n",
       "==============================================================================\n",
       "Omnibus:                        1.506   Durbin-Watson:                   2.029\n",
       "Prob(Omnibus):                  0.471   Jarque-Bera (JB):                1.404\n",
       "Skew:                           0.017   Prob(JB):                        0.496\n",
       "Kurtosis:                       2.726   Cond. No.                         21.7\n",
       "==============================================================================\n",
       "\n",
       "Notes:\n",
       "[1] Standard Errors assume that the covariance matrix of the errors is correctly specified.\n",
       "\"\"\""
      ]
     },
     "execution_count": 10,
     "metadata": {},
     "output_type": "execute_result"
    }
   ],
   "source": [
    "X = df.drop('disease_progression', axis=1)\n",
    "X.loc[:, :] = StandardScaler().fit_transform(X)\n",
    "X = sm.add_constant(X)\n",
    "y = df['disease_progression']\n",
    "\n",
    "model = sm.OLS(y, X).fit()\n",
    "model.summary()"
   ]
  }
 ],
 "metadata": {
  "kernelspec": {
   "display_name": "venv",
   "language": "python",
   "name": "python3"
  },
  "language_info": {
   "codemirror_mode": {
    "name": "ipython",
    "version": 3
   },
   "file_extension": ".py",
   "mimetype": "text/x-python",
   "name": "python",
   "nbconvert_exporter": "python",
   "pygments_lexer": "ipython3",
   "version": "3.11.6"
  }
 },
 "nbformat": 4,
 "nbformat_minor": 2
}
